{
 "cells": [
  {
   "cell_type": "code",
   "execution_count": 3,
   "metadata": {},
   "outputs": [
    {
     "name": "stdout",
     "output_type": "stream",
     "text": [
      "Es falso\n"
     ]
    }
   ],
   "source": [
    "var1 = 6\n",
    "\n",
    "if var1 == '6' :\n",
    "    print(\"Es verdadero\")\n",
    "    print(\"Ingreso\")\n",
    "else :\n",
    "    print(\"Es falso\")\n",
    "\n",
    "\n"
   ]
  },
  {
   "cell_type": "code",
   "execution_count": 4,
   "metadata": {},
   "outputs": [
    {
     "name": "stdout",
     "output_type": "stream",
     "text": [
      "Hola mundo\n"
     ]
    }
   ],
   "source": [
    "# Esto es un comentario\n",
    "# El metodo realiza tal accion\n",
    "print(\"Hola mundo\")"
   ]
  },
  {
   "cell_type": "code",
   "execution_count": 5,
   "metadata": {},
   "outputs": [
    {
     "name": "stdout",
     "output_type": "stream",
     "text": [
      "5\n",
      "DATAPATH\n"
     ]
    }
   ],
   "source": [
    "# variables\n",
    "a = 5 # int\n",
    "b = \"DATAPATH\" #String\n",
    "print(a)\n",
    "print (b)\n"
   ]
  },
  {
   "cell_type": "code",
   "execution_count": 6,
   "metadata": {},
   "outputs": [
    {
     "name": "stdout",
     "output_type": "stream",
     "text": [
      "<class 'int'>\n",
      "<class 'str'>\n"
     ]
    }
   ],
   "source": [
    "print(type(a))\n",
    "print(type(b))"
   ]
  },
  {
   "cell_type": "code",
   "execution_count": 7,
   "metadata": {},
   "outputs": [
    {
     "name": "stdout",
     "output_type": "stream",
     "text": [
      "<class 'float'>\n"
     ]
    }
   ],
   "source": [
    "c=2.0\n",
    "print(type(c))"
   ]
  },
  {
   "cell_type": "code",
   "execution_count": 8,
   "metadata": {},
   "outputs": [
    {
     "name": "stdout",
     "output_type": "stream",
     "text": [
      "Pera\n"
     ]
    }
   ],
   "source": [
    "x, y, z=\"Manzana\",\"Platano\",\"Pera\"\n",
    "print(z)"
   ]
  },
  {
   "cell_type": "code",
   "execution_count": 9,
   "metadata": {},
   "outputs": [],
   "source": [
    "# Tipos de datos\n",
    "# String\n",
    "var1=\"Manzana\"\n",
    "var='Manzana'\n"
   ]
  },
  {
   "cell_type": "code",
   "execution_count": 13,
   "metadata": {},
   "outputs": [
    {
     "name": "stdout",
     "output_type": "stream",
     "text": [
      "Manzana\n",
      "M\n",
      "z\n"
     ]
    }
   ],
   "source": [
    "print(var1)\n",
    "print(var1[0])\n",
    "print(var1[3])"
   ]
  },
  {
   "cell_type": "code",
   "execution_count": 14,
   "metadata": {},
   "outputs": [],
   "source": [
    "# Numericos\n",
    "int_num=10\n",
    "float_num=10.5\n",
    "complex_num=3.14j\n"
   ]
  },
  {
   "cell_type": "code",
   "execution_count": 15,
   "metadata": {},
   "outputs": [
    {
     "name": "stdout",
     "output_type": "stream",
     "text": [
      "<class 'complex'>\n"
     ]
    }
   ],
   "source": [
    "print(type(complex_num))"
   ]
  },
  {
   "cell_type": "code",
   "execution_count": 17,
   "metadata": {},
   "outputs": [
    {
     "name": "stdout",
     "output_type": "stream",
     "text": [
      "[]\n",
      "[1, 2, 3, 4, 5]\n",
      "['Manzana', 'Platano']\n",
      "[1, 2, 'Manzana', 1.4j]\n"
     ]
    }
   ],
   "source": [
    "#listas\n",
    "list_1=[]\n",
    "\n",
    "lista_2=[1,2,3,4,5] # lista de entero\n",
    "\n",
    "lista_3=['Manzana','Platano'] # lista de string\n",
    "\n",
    "lista_4 = [1,2,\"Manzana\", 1.4j]\n",
    "\n",
    "print(list_1)\n",
    "print(lista_2)\n",
    "print(lista_3)\n",
    "print(lista_4)"
   ]
  },
  {
   "cell_type": "code",
   "execution_count": 18,
   "metadata": {},
   "outputs": [
    {
     "name": "stdout",
     "output_type": "stream",
     "text": [
      "['Mnazana', [1, 2, 3], ['a', 'b']]\n"
     ]
    }
   ],
   "source": [
    "list_5 = [\"Mnazana\",[1,2,3],['a','b']]#lista anidada\n",
    "print (list_5)"
   ]
  },
  {
   "cell_type": "code",
   "execution_count": 21,
   "metadata": {},
   "outputs": [
    {
     "name": "stdout",
     "output_type": "stream",
     "text": [
      "a\n"
     ]
    }
   ],
   "source": [
    "list_6 = ['x','y','z',['a','b',1,2]]\n",
    "print(list_6[3][0])"
   ]
  },
  {
   "cell_type": "code",
   "execution_count": 22,
   "metadata": {},
   "outputs": [
    {
     "name": "stdout",
     "output_type": "stream",
     "text": [
      "['y', 'z']\n"
     ]
    }
   ],
   "source": [
    "print (list_6 [1:3])"
   ]
  },
  {
   "cell_type": "code",
   "execution_count": 23,
   "metadata": {},
   "outputs": [
    {
     "name": "stdout",
     "output_type": "stream",
     "text": [
      "['z', ['a', 'b', 1, 2]]\n"
     ]
    }
   ],
   "source": [
    "print(list_6[2:])"
   ]
  },
  {
   "cell_type": "code",
   "execution_count": 24,
   "metadata": {},
   "outputs": [
    {
     "name": "stdout",
     "output_type": "stream",
     "text": [
      "['w', 'y', 'z', ['a', 'b', 1, 2]]\n"
     ]
    }
   ],
   "source": [
    "list_6[0] = 'w'\n",
    "print(list_6)"
   ]
  },
  {
   "cell_type": "code",
   "execution_count": 25,
   "metadata": {},
   "outputs": [
    {
     "name": "stdout",
     "output_type": "stream",
     "text": [
      "[1, 2, 3, ['a', 'b', 1, 2]]\n"
     ]
    }
   ],
   "source": [
    "list_6[0:3] = [1,2,3]\n",
    "print(list_6)"
   ]
  },
  {
   "cell_type": "code",
   "execution_count": 26,
   "metadata": {},
   "outputs": [
    {
     "name": "stdout",
     "output_type": "stream",
     "text": [
      "[1, 2, 3, ['a', 'b', 1, 2], 'm']\n"
     ]
    }
   ],
   "source": [
    "# append\n",
    "list_6.append('m')\n",
    "print(list_6)"
   ]
  },
  {
   "cell_type": "code",
   "execution_count": 27,
   "metadata": {},
   "outputs": [
    {
     "name": "stdout",
     "output_type": "stream",
     "text": [
      "[1, 2, 3, ['a', 'b', 1, 2], 'm', 'b', 'n']\n"
     ]
    }
   ],
   "source": [
    "list_6.extend(['b','n'])\n",
    "print(list_6)"
   ]
  },
  {
   "cell_type": "code",
   "execution_count": 28,
   "metadata": {},
   "outputs": [
    {
     "name": "stdout",
     "output_type": "stream",
     "text": [
      "1\n",
      "2\n",
      "3\n",
      "['a', 'b', 1, 2]\n",
      "m\n",
      "b\n",
      "n\n"
     ]
    }
   ],
   "source": [
    "for element in list_6:\n",
    "    print(element)"
   ]
  },
  {
   "cell_type": "code",
   "execution_count": 29,
   "metadata": {},
   "outputs": [],
   "source": [
    "#Tuplas\n",
    "tupla_1 = ()"
   ]
  },
  {
   "cell_type": "code",
   "execution_count": 31,
   "metadata": {},
   "outputs": [
    {
     "name": "stdout",
     "output_type": "stream",
     "text": [
      "(1, 2, 3)\n"
     ]
    }
   ],
   "source": [
    "tupla_2 = (1,2,3)\n",
    "print (tupla_2)"
   ]
  },
  {
   "cell_type": "code",
   "execution_count": 32,
   "metadata": {},
   "outputs": [
    {
     "name": "stdout",
     "output_type": "stream",
     "text": [
      "(1, 2, 'manzana', 5.4)\n"
     ]
    }
   ],
   "source": [
    "tupla_3 = (1,2,\"manzana\",5.4)\n",
    "print(tupla_3)"
   ]
  },
  {
   "cell_type": "code",
   "execution_count": 33,
   "metadata": {},
   "outputs": [
    {
     "name": "stdout",
     "output_type": "stream",
     "text": [
      "((1, 2, 3), [2, 3, 4], 1, 5)\n"
     ]
    }
   ],
   "source": [
    "tupla_4 = ((1,2,3),[2,3,4],1,5)\n",
    "print(tupla_4)"
   ]
  },
  {
   "cell_type": "code",
   "execution_count": 34,
   "metadata": {},
   "outputs": [
    {
     "name": "stdout",
     "output_type": "stream",
     "text": [
      "<class 'tuple'>\n"
     ]
    }
   ],
   "source": [
    "print(type(tupla_4))"
   ]
  },
  {
   "cell_type": "code",
   "execution_count": 35,
   "metadata": {},
   "outputs": [
    {
     "name": "stdout",
     "output_type": "stream",
     "text": [
      "<class 'str'>\n"
     ]
    }
   ],
   "source": [
    "tupla_5 = (\"manzana\")\n",
    "print(type(tupla_5))"
   ]
  },
  {
   "cell_type": "code",
   "execution_count": 37,
   "metadata": {},
   "outputs": [
    {
     "name": "stdout",
     "output_type": "stream",
     "text": [
      "<class 'tuple'>\n"
     ]
    }
   ],
   "source": [
    "tupla_5 = \"manzana\",\"platano\"\n",
    "print(type(tupla_5))"
   ]
  },
  {
   "cell_type": "code",
   "execution_count": 38,
   "metadata": {},
   "outputs": [
    {
     "name": "stdout",
     "output_type": "stream",
     "text": [
      "2\n"
     ]
    }
   ],
   "source": [
    "print(tupla_4[1][0])"
   ]
  },
  {
   "cell_type": "code",
   "execution_count": 39,
   "metadata": {},
   "outputs": [
    {
     "name": "stdout",
     "output_type": "stream",
     "text": [
      "([2, 3, 4],)\n"
     ]
    }
   ],
   "source": [
    "print(tupla_4[1:2])"
   ]
  },
  {
   "cell_type": "code",
   "execution_count": 40,
   "metadata": {},
   "outputs": [
    {
     "name": "stdout",
     "output_type": "stream",
     "text": [
      "juan\n",
      "pedro\n"
     ]
    }
   ],
   "source": [
    "for nombre in (\"juan\",\"pedro\"):\n",
    "    print(nombre)"
   ]
  },
  {
   "cell_type": "code",
   "execution_count": 42,
   "metadata": {},
   "outputs": [
    {
     "name": "stdout",
     "output_type": "stream",
     "text": [
      "{1: [12, 14, 18, 19], 'nombre': 'Juan'}\n"
     ]
    }
   ],
   "source": [
    "# Diccionario\n",
    "# {\n",
    "#   \"nombre\":\"Juan\",\n",
    "#    \"apellido\":\"Perez\"\n",
    "# }\n",
    "\n",
    "dict_1 = {}\n",
    "\n",
    "dict_2 = {1:'Manzana', 2:'Pera'}\n",
    "dict_3 = {\"nombre\":\"Juan\",\"apellido\":\"Perez\"}\n",
    "dict_4 = {1: [12,14,18,19],\"nombre\":\"Juan\"}\n",
    "\n",
    "print(dict_4)"
   ]
  },
  {
   "cell_type": "code",
   "execution_count": 43,
   "metadata": {},
   "outputs": [
    {
     "name": "stdout",
     "output_type": "stream",
     "text": [
      "Juan\n"
     ]
    }
   ],
   "source": [
    "print(dict_3['nombre'])"
   ]
  },
  {
   "cell_type": "code",
   "execution_count": 44,
   "metadata": {},
   "outputs": [
    {
     "name": "stdout",
     "output_type": "stream",
     "text": [
      "[12, 14, 18, 19]\n",
      "Juan\n"
     ]
    }
   ],
   "source": [
    "print(dict_4[1])\n",
    "print(dict_4[\"nombre\"])"
   ]
  },
  {
   "cell_type": "code",
   "execution_count": 45,
   "metadata": {},
   "outputs": [
    {
     "name": "stdout",
     "output_type": "stream",
     "text": [
      "juan\n",
      "juan\n"
     ]
    }
   ],
   "source": [
    "dict_5 = {\"nombre\":\"juan\",\"edad\":25}\n",
    "print(dict_5[\"nombre\"])\n",
    "print(dict_5.get(\"nombre\"))"
   ]
  },
  {
   "cell_type": "code",
   "execution_count": 46,
   "metadata": {},
   "outputs": [
    {
     "name": "stdout",
     "output_type": "stream",
     "text": [
      "None\n"
     ]
    }
   ],
   "source": [
    "print(dict_5.get(\"direccion\"))"
   ]
  },
  {
   "cell_type": "code",
   "execution_count": 47,
   "metadata": {},
   "outputs": [
    {
     "name": "stdout",
     "output_type": "stream",
     "text": [
      "{'nombre': 'juan', 'edad': 28}\n"
     ]
    }
   ],
   "source": [
    "dict_5['edad'] = 28\n",
    "print(dict_5)"
   ]
  },
  {
   "cell_type": "code",
   "execution_count": 49,
   "metadata": {},
   "outputs": [
    {
     "name": "stdout",
     "output_type": "stream",
     "text": [
      "{'nombre': 'juan', 'edad': 28, 'direccion': 'Lima'}\n"
     ]
    }
   ],
   "source": [
    "dict_5[\"direccion\"] = \"Lima\"\n",
    "print(dict_5)"
   ]
  },
  {
   "cell_type": "code",
   "execution_count": 53,
   "metadata": {},
   "outputs": [
    {
     "name": "stdout",
     "output_type": "stream",
     "text": [
      "juan\n",
      "28\n",
      "Lima\n",
      "nombre -> juan\n",
      "edad -> 28\n",
      "direccion -> Lima\n"
     ]
    }
   ],
   "source": [
    "for element in dict_5:\n",
    "    print(dict_5[element])\n",
    "\n",
    "for key in dict_5:\n",
    "    print(key, '->',dict_5[key])"
   ]
  },
  {
   "cell_type": "code",
   "execution_count": 58,
   "metadata": {},
   "outputs": [
    {
     "name": "stdout",
     "output_type": "stream",
     "text": [
      "-5  es negativo\n",
      "Se ejecuta siempre\n"
     ]
    }
   ],
   "source": [
    "# Control de flujo\n",
    "# if \n",
    "\n",
    "num = -5\n",
    "if num > 0:\n",
    "    print(num, \" es mayo que cero\")\n",
    "    print (\"y es un numero positivo\")\n",
    "else:\n",
    "    print(num, \" es negativo\")\n",
    "print(\"Se ejecuta siempre\")"
   ]
  },
  {
   "cell_type": "code",
   "execution_count": 59,
   "metadata": {},
   "outputs": [
    {
     "name": "stdout",
     "output_type": "stream",
     "text": [
      "El nuermo es positivo\n"
     ]
    }
   ],
   "source": [
    "num = float(input(\"Ingresa un numero\"))\n",
    "\n",
    "if num >= 0:\n",
    "    if num == 0:\n",
    "        print(\"El numero es cero\")\n",
    "    else:\n",
    "        print(\"El nuermo es positivo\")\n",
    "else:\n",
    "    print(\"El numero es negativo\")        "
   ]
  },
  {
   "cell_type": "code",
   "execution_count": 61,
   "metadata": {},
   "outputs": [
    {
     "name": "stdout",
     "output_type": "stream",
     "text": [
      "Total:  1\n",
      "Total:  3\n",
      "Total:  6\n",
      "Total:  10\n",
      "Total:  15\n"
     ]
    }
   ],
   "source": [
    "numeros = [1,2,3,4,5]\n",
    "suma = 0\n",
    "\n",
    "\n",
    "for num in numeros:\n",
    "    suma = suma + num\n",
    "    print(\"Total: \",suma)"
   ]
  },
  {
   "cell_type": "code",
   "execution_count": 62,
   "metadata": {},
   "outputs": [
    {
     "name": "stdout",
     "output_type": "stream",
     "text": [
      "La suma es:  55\n"
     ]
    }
   ],
   "source": [
    "n = 10\n",
    "suma = 0\n",
    "i = 1\n",
    "\n",
    "while i <= n:\n",
    "    suma = suma + i\n",
    "    i = i + 1\n",
    "\n",
    "print(\"La suma es: \",suma)\n"
   ]
  },
  {
   "cell_type": "code",
   "execution_count": 63,
   "metadata": {},
   "outputs": [
    {
     "name": "stdout",
     "output_type": "stream",
     "text": [
      "M\n"
     ]
    }
   ],
   "source": [
    "for val in \"Manzana\":\n",
    "    if val == 'a':\n",
    "        break\n",
    "    print(val)"
   ]
  },
  {
   "cell_type": "code",
   "execution_count": 64,
   "metadata": {},
   "outputs": [],
   "source": [
    "def get_user():\n",
    "    pass"
   ]
  },
  {
   "cell_type": "code",
   "execution_count": null,
   "metadata": {},
   "outputs": [],
   "source": [
    "for val in \"Manzana\":\n",
    "    if val == 'a':\n",
    "        pass\n",
    "    print(val)"
   ]
  },
  {
   "cell_type": "code",
   "execution_count": 65,
   "metadata": {},
   "outputs": [
    {
     "name": "stdout",
     "output_type": "stream",
     "text": [
      "Try\n",
      "Error\n",
      "division by zero\n"
     ]
    }
   ],
   "source": [
    "try:\n",
    "    print(\"Try\")\n",
    "    b = 5/0\n",
    "except Exception as e:\n",
    "    print (\"Error\")\n",
    "    print(e)\n",
    "    "
   ]
  },
  {
   "cell_type": "code",
   "execution_count": 69,
   "metadata": {},
   "outputs": [
    {
     "name": "stdout",
     "output_type": "stream",
     "text": [
      "8\n",
      "15\n",
      "1.6666666666666667\n",
      "1\n",
      "2\n",
      "125\n"
     ]
    }
   ],
   "source": [
    "# Operadores\n",
    "\n",
    "a = 5\n",
    "b = 3\n",
    "\n",
    "x = a; x += b; print (x)\n",
    "x = a; x *= b; print (x)\n",
    "x = a; x /= b; print (x)\n",
    "x = a; x //= b; print (x)\n",
    "x = a; x %= b; print (x)\n",
    "x = a; x **= b; print (x)"
   ]
  },
  {
   "cell_type": "code",
   "execution_count": 73,
   "metadata": {},
   "outputs": [
    {
     "name": "stdout",
     "output_type": "stream",
     "text": [
      "Numero impar:  1\n",
      "Numero impar:  3\n",
      "Numero impar:  5\n",
      "Numero impar:  7\n",
      "Numero impar:  9\n",
      "Numero impar:  11\n",
      "Numero impar:  13\n",
      "Numero impar:  15\n",
      "Numero impar:  17\n",
      "Numero impar:  19\n",
      "Numero impar:  21\n",
      "Numero impar:  23\n",
      "Numero impar:  25\n",
      "Numero impar:  27\n",
      "Numero impar:  29\n",
      "Numero impar:  31\n",
      "Numero impar:  33\n",
      "Numero impar:  35\n",
      "Numero impar:  37\n",
      "Numero impar:  39\n",
      "Numero impar:  41\n",
      "Numero impar:  43\n",
      "Numero impar:  45\n",
      "Numero impar:  47\n",
      "Numero impar:  49\n",
      "Numero impar:  51\n",
      "Numero impar:  53\n",
      "Numero impar:  55\n",
      "Numero impar:  57\n",
      "Numero impar:  59\n",
      "Numero impar:  61\n",
      "Numero impar:  63\n",
      "Numero impar:  65\n",
      "Numero impar:  67\n",
      "Numero impar:  69\n",
      "Numero impar:  71\n",
      "Numero impar:  73\n",
      "Numero impar:  75\n",
      "Numero impar:  77\n",
      "Numero impar:  79\n",
      "Numero impar:  81\n",
      "Numero impar:  83\n",
      "Numero impar:  85\n",
      "Numero impar:  87\n",
      "Numero impar:  89\n",
      "Numero impar:  91\n",
      "Numero impar:  93\n",
      "Numero impar:  95\n",
      "Numero impar:  97\n",
      "Numero impar:  99\n"
     ]
    }
   ],
   "source": [
    "# raelizar un script en el cual solo sume los impares\n",
    "# Realizar un script en e cual cuentess la frecuencia de elementos en una lista\n",
    "num = 0\n",
    "\n",
    "while num<100:\n",
    "    num += 1\n",
    "    if num%2:\n",
    "        print(\"Numero impar: \", num)\n"
   ]
  },
  {
   "cell_type": "code",
   "execution_count": 75,
   "metadata": {},
   "outputs": [
    {
     "name": "stdout",
     "output_type": "stream",
     "text": [
      "{1: 2, 2: 1, 3: 1, 4: 0, 5: 0}\n",
      "5\n"
     ]
    }
   ],
   "source": [
    "lista = [1,1,1,2,2,3,3,4,5]\n",
    "\n",
    "rep = {}\n",
    "\n",
    "for n in lista:\n",
    "      if n in rep :\n",
    "        rep[n] += 1\n",
    "      else:\n",
    "         rep[n] = 0\n",
    "\n",
    "print(rep)\n",
    "\n",
    "print(len(rep))"
   ]
  },
  {
   "cell_type": "code",
   "execution_count": 76,
   "metadata": {},
   "outputs": [
    {
     "name": "stdout",
     "output_type": "stream",
     "text": [
      "2500\n"
     ]
    }
   ],
   "source": [
    "list_num = list(range(1,100))\n",
    "suma=0\n",
    "for num in list_num:\n",
    "    if num%2 == 1:\n",
    "        suma += num\n",
    "print(suma)"
   ]
  },
  {
   "cell_type": "code",
   "execution_count": 78,
   "metadata": {},
   "outputs": [
    {
     "data": {
      "text/plain": [
       "820"
      ]
     },
     "execution_count": 78,
     "metadata": {},
     "output_type": "execute_result"
    }
   ],
   "source": [
    "# Funciones\n",
    "def mi_funcion(x):\n",
    "    return 2*x\n",
    "\n",
    "mi_funcion(410)"
   ]
  },
  {
   "cell_type": "code",
   "execution_count": 80,
   "metadata": {},
   "outputs": [
    {
     "data": {
      "text/plain": [
       "'Hello'"
      ]
     },
     "execution_count": 80,
     "metadata": {},
     "output_type": "execute_result"
    }
   ],
   "source": [
    "def greeting():\n",
    "    return \"Hello\"\n",
    "greeting()"
   ]
  },
  {
   "cell_type": "code",
   "execution_count": null,
   "metadata": {},
   "outputs": [],
   "source": [
    "def read_table(tabla):\n",
    "    query = f\"SELECT * FROM {tabla}\"\n",
    "    \n",
    "    return execute_query(query)"
   ]
  },
  {
   "cell_type": "code",
   "execution_count": 81,
   "metadata": {},
   "outputs": [
    {
     "name": "stdout",
     "output_type": "stream",
     "text": [
      "Hola\n"
     ]
    }
   ],
   "source": [
    "saludos = lambda: \"Hola\"\n",
    "print(saludos())"
   ]
  },
  {
   "cell_type": "code",
   "execution_count": 82,
   "metadata": {},
   "outputs": [
    {
     "name": "stdout",
     "output_type": "stream",
     "text": [
      "15\n"
     ]
    }
   ],
   "source": [
    "suma = lambda a,b:a+b\n",
    "print(suma(10,5))"
   ]
  },
  {
   "cell_type": "code",
   "execution_count": 84,
   "metadata": {},
   "outputs": [
    {
     "data": {
      "text/plain": [
       "[2, 4, 6]"
      ]
     },
     "execution_count": 84,
     "metadata": {},
     "output_type": "execute_result"
    }
   ],
   "source": [
    "list_num = [1,2,3]\n",
    "resultado = list(map(lambda x: x*2, list_num))\n",
    "resultado"
   ]
  }
 ],
 "metadata": {
  "kernelspec": {
   "display_name": "Python 3",
   "language": "python",
   "name": "python3"
  },
  "language_info": {
   "codemirror_mode": {
    "name": "ipython",
    "version": 3
   },
   "file_extension": ".py",
   "mimetype": "text/x-python",
   "name": "python",
   "nbconvert_exporter": "python",
   "pygments_lexer": "ipython3",
   "version": "3.10.13"
  }
 },
 "nbformat": 4,
 "nbformat_minor": 2
}
